{
 "cells": [
  {
   "cell_type": "markdown",
   "metadata": {},
   "source": [
    "take data as csv file\n",
    "you can just put df on it's own to print out the dataframe"
   ]
  },
  {
   "cell_type": "code",
   "execution_count": 1,
   "metadata": {},
   "outputs": [],
   "source": [
    "import pandas as pd"
   ]
  },
  {
   "cell_type": "code",
   "execution_count": 2,
   "metadata": {},
   "outputs": [],
   "source": [
    "df = pd.read_csv('Readable.csv')"
   ]
  },
  {
   "cell_type": "code",
   "execution_count": 3,
   "metadata": {},
   "outputs": [
    {
     "data": {
      "text/html": [
       "<div>\n",
       "<style scoped>\n",
       "    .dataframe tbody tr th:only-of-type {\n",
       "        vertical-align: middle;\n",
       "    }\n",
       "\n",
       "    .dataframe tbody tr th {\n",
       "        vertical-align: top;\n",
       "    }\n",
       "\n",
       "    .dataframe thead th {\n",
       "        text-align: right;\n",
       "    }\n",
       "</style>\n",
       "<table border=\"1\" class=\"dataframe\">\n",
       "  <thead>\n",
       "    <tr style=\"text-align: right;\">\n",
       "      <th></th>\n",
       "      <th>Treatment</th>\n",
       "      <th>Control</th>\n",
       "      <th>HQ*1000</th>\n",
       "      <th>SPK</th>\n",
       "      <th>HQ*100</th>\n",
       "      <th>SPK+HQ*1000</th>\n",
       "      <th>SPK+HQ*100</th>\n",
       "    </tr>\n",
       "  </thead>\n",
       "  <tbody>\n",
       "    <tr>\n",
       "      <th>0</th>\n",
       "      <td>avg released LDH</td>\n",
       "      <td>0.96075</td>\n",
       "      <td>0.797875</td>\n",
       "      <td>0.766250</td>\n",
       "      <td>0.785375</td>\n",
       "      <td>0.734500</td>\n",
       "      <td>0.751750</td>\n",
       "    </tr>\n",
       "    <tr>\n",
       "      <th>1</th>\n",
       "      <td>ttest</td>\n",
       "      <td>NaN</td>\n",
       "      <td>0.049691</td>\n",
       "      <td>0.470272</td>\n",
       "      <td>0.243736</td>\n",
       "      <td>0.482552</td>\n",
       "      <td>0.892088</td>\n",
       "    </tr>\n",
       "    <tr>\n",
       "      <th>2</th>\n",
       "      <td>LDH total avg</td>\n",
       "      <td>1.73450</td>\n",
       "      <td>1.477250</td>\n",
       "      <td>1.652500</td>\n",
       "      <td>1.592000</td>\n",
       "      <td>1.555000</td>\n",
       "      <td>1.411750</td>\n",
       "    </tr>\n",
       "    <tr>\n",
       "      <th>3</th>\n",
       "      <td>% cytotoxicity</td>\n",
       "      <td>0.00000</td>\n",
       "      <td>6.807270</td>\n",
       "      <td>1.990600</td>\n",
       "      <td>4.400000</td>\n",
       "      <td>-1.704369</td>\n",
       "      <td>0.527506</td>\n",
       "    </tr>\n",
       "    <tr>\n",
       "      <th>4</th>\n",
       "      <td>MTT avg</td>\n",
       "      <td>0.44100</td>\n",
       "      <td>0.455167</td>\n",
       "      <td>0.512000</td>\n",
       "      <td>0.477500</td>\n",
       "      <td>0.464167</td>\n",
       "      <td>0.459333</td>\n",
       "    </tr>\n",
       "    <tr>\n",
       "      <th>5</th>\n",
       "      <td>MTT ttest</td>\n",
       "      <td>NaN</td>\n",
       "      <td>0.519827</td>\n",
       "      <td>0.140386</td>\n",
       "      <td>0.367692</td>\n",
       "      <td>0.580860</td>\n",
       "      <td>0.668565</td>\n",
       "    </tr>\n",
       "    <tr>\n",
       "      <th>6</th>\n",
       "      <td>MTT % viability</td>\n",
       "      <td>100.00000</td>\n",
       "      <td>103.212396</td>\n",
       "      <td>116.099773</td>\n",
       "      <td>108.276644</td>\n",
       "      <td>105.253212</td>\n",
       "      <td>104.157218</td>\n",
       "    </tr>\n",
       "  </tbody>\n",
       "</table>\n",
       "</div>"
      ],
      "text/plain": [
       "          Treatment    Control     HQ*1000         SPK      HQ*100  \\\n",
       "0  avg released LDH    0.96075    0.797875    0.766250    0.785375   \n",
       "1             ttest        NaN    0.049691    0.470272    0.243736   \n",
       "2     LDH total avg    1.73450    1.477250    1.652500    1.592000   \n",
       "3    % cytotoxicity    0.00000    6.807270    1.990600    4.400000   \n",
       "4           MTT avg    0.44100    0.455167    0.512000    0.477500   \n",
       "5         MTT ttest        NaN    0.519827    0.140386    0.367692   \n",
       "6   MTT % viability  100.00000  103.212396  116.099773  108.276644   \n",
       "\n",
       "   SPK+HQ*1000  SPK+HQ*100  \n",
       "0     0.734500    0.751750  \n",
       "1     0.482552    0.892088  \n",
       "2     1.555000    1.411750  \n",
       "3    -1.704369    0.527506  \n",
       "4     0.464167    0.459333  \n",
       "5     0.580860    0.668565  \n",
       "6   105.253212  104.157218  "
      ]
     },
     "execution_count": 3,
     "metadata": {},
     "output_type": "execute_result"
    }
   ],
   "source": [
    "df"
   ]
  },
  {
   "cell_type": "code",
   "execution_count": null,
   "metadata": {},
   "outputs": [],
   "source": [
    "df.shape #gives info on rows and columns"
   ]
  },
  {
   "cell_type": "code",
   "execution_count": null,
   "metadata": {},
   "outputs": [],
   "source": [
    "df.info #gives ALL the info"
   ]
  },
  {
   "cell_type": "code",
   "execution_count": null,
   "metadata": {},
   "outputs": [],
   "source": [
    "df.set_option('display.max_columns', 86) #put a column limit"
   ]
  },
  {
   "cell_type": "code",
   "execution_count": null,
   "metadata": {},
   "outputs": [],
   "source": [
    "schema_df = pd.read_csv('something.csv')"
   ]
  },
  {
   "cell_type": "code",
   "execution_count": null,
   "metadata": {},
   "outputs": [],
   "source": [
    "schema_df #shows the Definitions of each of the columns"
   ]
  }
 ],
 "metadata": {
  "kernelspec": {
   "display_name": "Python 3",
   "language": "python",
   "name": "python3"
  },
  "language_info": {
   "codemirror_mode": {
    "name": "ipython",
    "version": 3
   },
   "file_extension": ".py",
   "mimetype": "text/x-python",
   "name": "python",
   "nbconvert_exporter": "python",
   "pygments_lexer": "ipython3",
   "version": "3.8.4"
  }
 },
 "nbformat": 4,
 "nbformat_minor": 4
}
